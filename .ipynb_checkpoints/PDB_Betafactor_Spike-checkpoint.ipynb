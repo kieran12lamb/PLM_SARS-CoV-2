{
 "cells": [
  {
   "cell_type": "code",
   "execution_count": 1,
   "metadata": {},
   "outputs": [
    {
     "data": {
      "text/html": [
       "<div>\n",
       "<style scoped>\n",
       "    .dataframe tbody tr th:only-of-type {\n",
       "        vertical-align: middle;\n",
       "    }\n",
       "\n",
       "    .dataframe tbody tr th {\n",
       "        vertical-align: top;\n",
       "    }\n",
       "\n",
       "    .dataframe thead th {\n",
       "        text-align: right;\n",
       "    }\n",
       "</style>\n",
       "<table border=\"1\" class=\"dataframe\">\n",
       "  <thead>\n",
       "    <tr style=\"text-align: right;\">\n",
       "      <th></th>\n",
       "      <th>pos</th>\n",
       "      <th>reference</th>\n",
       "      <th>change</th>\n",
       "      <th>mutation</th>\n",
       "    </tr>\n",
       "  </thead>\n",
       "  <tbody>\n",
       "    <tr>\n",
       "      <th>0</th>\n",
       "      <td>1</td>\n",
       "      <td>M</td>\n",
       "      <td>-0.00051</td>\n",
       "      <td>S13I</td>\n",
       "    </tr>\n",
       "    <tr>\n",
       "      <th>1</th>\n",
       "      <td>2</td>\n",
       "      <td>F</td>\n",
       "      <td>-0.00823</td>\n",
       "      <td>S13I</td>\n",
       "    </tr>\n",
       "    <tr>\n",
       "      <th>2</th>\n",
       "      <td>3</td>\n",
       "      <td>V</td>\n",
       "      <td>-0.00758</td>\n",
       "      <td>S13I</td>\n",
       "    </tr>\n",
       "    <tr>\n",
       "      <th>3</th>\n",
       "      <td>4</td>\n",
       "      <td>F</td>\n",
       "      <td>-0.03284</td>\n",
       "      <td>S13I</td>\n",
       "    </tr>\n",
       "    <tr>\n",
       "      <th>4</th>\n",
       "      <td>5</td>\n",
       "      <td>L</td>\n",
       "      <td>-0.01044</td>\n",
       "      <td>S13I</td>\n",
       "    </tr>\n",
       "    <tr>\n",
       "      <th>...</th>\n",
       "      <td>...</td>\n",
       "      <td>...</td>\n",
       "      <td>...</td>\n",
       "      <td>...</td>\n",
       "    </tr>\n",
       "    <tr>\n",
       "      <th>3814</th>\n",
       "      <td>1269</td>\n",
       "      <td>K</td>\n",
       "      <td>-0.00216</td>\n",
       "      <td>S13I,W152C</td>\n",
       "    </tr>\n",
       "    <tr>\n",
       "      <th>3815</th>\n",
       "      <td>1270</td>\n",
       "      <td>L</td>\n",
       "      <td>0.00449</td>\n",
       "      <td>S13I,W152C</td>\n",
       "    </tr>\n",
       "    <tr>\n",
       "      <th>3816</th>\n",
       "      <td>1271</td>\n",
       "      <td>H</td>\n",
       "      <td>0.00186</td>\n",
       "      <td>S13I,W152C</td>\n",
       "    </tr>\n",
       "    <tr>\n",
       "      <th>3817</th>\n",
       "      <td>1272</td>\n",
       "      <td>Y</td>\n",
       "      <td>0.00462</td>\n",
       "      <td>S13I,W152C</td>\n",
       "    </tr>\n",
       "    <tr>\n",
       "      <th>3818</th>\n",
       "      <td>1273</td>\n",
       "      <td>T</td>\n",
       "      <td>0.00722</td>\n",
       "      <td>S13I,W152C</td>\n",
       "    </tr>\n",
       "  </tbody>\n",
       "</table>\n",
       "<p>3819 rows × 4 columns</p>\n",
       "</div>"
      ],
      "text/plain": [
       "       pos reference   change    mutation\n",
       "0        1         M -0.00051        S13I\n",
       "1        2         F -0.00823        S13I\n",
       "2        3         V -0.00758        S13I\n",
       "3        4         F -0.03284        S13I\n",
       "4        5         L -0.01044        S13I\n",
       "...    ...       ...      ...         ...\n",
       "3814  1269         K -0.00216  S13I,W152C\n",
       "3815  1270         L  0.00449  S13I,W152C\n",
       "3816  1271         H  0.00186  S13I,W152C\n",
       "3817  1272         Y  0.00462  S13I,W152C\n",
       "3818  1273         T  0.00722  S13I,W152C\n",
       "\n",
       "[3819 rows x 4 columns]"
      ]
     },
     "execution_count": 1,
     "metadata": {},
     "output_type": "execute_result"
    }
   ],
   "source": [
    "import pandas as pd\n",
    "scores = pd.read_csv('Spike_Epistasis_Softmax.csv',index_col=0)\n",
    "scores = scores.reset_index()\n",
    "scores"
   ]
  },
  {
   "cell_type": "code",
   "execution_count": 2,
   "metadata": {},
   "outputs": [
    {
     "data": {
      "text/plain": [
       "0.19933"
      ]
     },
     "execution_count": 2,
     "metadata": {},
     "output_type": "execute_result"
    }
   ],
   "source": [
    "scores.change.max()"
   ]
  },
  {
   "cell_type": "code",
   "execution_count": 3,
   "metadata": {},
   "outputs": [],
   "source": [
    "scores.change = [score if abs(score)>0.01 else 0 for score in scores.change]"
   ]
  },
  {
   "cell_type": "code",
   "execution_count": 4,
   "metadata": {},
   "outputs": [],
   "source": [
    "scores.change = scores.change.round(4)"
   ]
  },
  {
   "cell_type": "code",
   "execution_count": 5,
   "metadata": {},
   "outputs": [
    {
     "data": {
      "text/html": [
       "<div>\n",
       "<style scoped>\n",
       "    .dataframe tbody tr th:only-of-type {\n",
       "        vertical-align: middle;\n",
       "    }\n",
       "\n",
       "    .dataframe tbody tr th {\n",
       "        vertical-align: top;\n",
       "    }\n",
       "\n",
       "    .dataframe thead th {\n",
       "        text-align: right;\n",
       "    }\n",
       "</style>\n",
       "<table border=\"1\" class=\"dataframe\">\n",
       "  <thead>\n",
       "    <tr style=\"text-align: right;\">\n",
       "      <th></th>\n",
       "      <th>pos</th>\n",
       "      <th>reference</th>\n",
       "      <th>change</th>\n",
       "      <th>mutation</th>\n",
       "    </tr>\n",
       "  </thead>\n",
       "  <tbody>\n",
       "    <tr>\n",
       "      <th>0</th>\n",
       "      <td>1</td>\n",
       "      <td>M</td>\n",
       "      <td>0.0000</td>\n",
       "      <td>S13I</td>\n",
       "    </tr>\n",
       "    <tr>\n",
       "      <th>1</th>\n",
       "      <td>2</td>\n",
       "      <td>F</td>\n",
       "      <td>0.0000</td>\n",
       "      <td>S13I</td>\n",
       "    </tr>\n",
       "    <tr>\n",
       "      <th>2</th>\n",
       "      <td>3</td>\n",
       "      <td>V</td>\n",
       "      <td>0.0000</td>\n",
       "      <td>S13I</td>\n",
       "    </tr>\n",
       "    <tr>\n",
       "      <th>3</th>\n",
       "      <td>4</td>\n",
       "      <td>F</td>\n",
       "      <td>-0.0328</td>\n",
       "      <td>S13I</td>\n",
       "    </tr>\n",
       "    <tr>\n",
       "      <th>4</th>\n",
       "      <td>5</td>\n",
       "      <td>L</td>\n",
       "      <td>-0.0104</td>\n",
       "      <td>S13I</td>\n",
       "    </tr>\n",
       "    <tr>\n",
       "      <th>...</th>\n",
       "      <td>...</td>\n",
       "      <td>...</td>\n",
       "      <td>...</td>\n",
       "      <td>...</td>\n",
       "    </tr>\n",
       "    <tr>\n",
       "      <th>3814</th>\n",
       "      <td>1269</td>\n",
       "      <td>K</td>\n",
       "      <td>0.0000</td>\n",
       "      <td>S13I,W152C</td>\n",
       "    </tr>\n",
       "    <tr>\n",
       "      <th>3815</th>\n",
       "      <td>1270</td>\n",
       "      <td>L</td>\n",
       "      <td>0.0000</td>\n",
       "      <td>S13I,W152C</td>\n",
       "    </tr>\n",
       "    <tr>\n",
       "      <th>3816</th>\n",
       "      <td>1271</td>\n",
       "      <td>H</td>\n",
       "      <td>0.0000</td>\n",
       "      <td>S13I,W152C</td>\n",
       "    </tr>\n",
       "    <tr>\n",
       "      <th>3817</th>\n",
       "      <td>1272</td>\n",
       "      <td>Y</td>\n",
       "      <td>0.0000</td>\n",
       "      <td>S13I,W152C</td>\n",
       "    </tr>\n",
       "    <tr>\n",
       "      <th>3818</th>\n",
       "      <td>1273</td>\n",
       "      <td>T</td>\n",
       "      <td>0.0000</td>\n",
       "      <td>S13I,W152C</td>\n",
       "    </tr>\n",
       "  </tbody>\n",
       "</table>\n",
       "<p>3819 rows × 4 columns</p>\n",
       "</div>"
      ],
      "text/plain": [
       "       pos reference  change    mutation\n",
       "0        1         M  0.0000        S13I\n",
       "1        2         F  0.0000        S13I\n",
       "2        3         V  0.0000        S13I\n",
       "3        4         F -0.0328        S13I\n",
       "4        5         L -0.0104        S13I\n",
       "...    ...       ...     ...         ...\n",
       "3814  1269         K  0.0000  S13I,W152C\n",
       "3815  1270         L  0.0000  S13I,W152C\n",
       "3816  1271         H  0.0000  S13I,W152C\n",
       "3817  1272         Y  0.0000  S13I,W152C\n",
       "3818  1273         T  0.0000  S13I,W152C\n",
       "\n",
       "[3819 rows x 4 columns]"
      ]
     },
     "execution_count": 5,
     "metadata": {},
     "output_type": "execute_result"
    }
   ],
   "source": [
    "scores"
   ]
  },
  {
   "cell_type": "code",
   "execution_count": 6,
   "metadata": {},
   "outputs": [
    {
     "data": {
      "text/plain": [
       "<Axes: >"
      ]
     },
     "execution_count": 6,
     "metadata": {},
     "output_type": "execute_result"
    },
    {
     "data": {
      "image/png": "[encoded data removed]",
      "text/plain": [
       "<Figure size 432x288 with 1 Axes>"
      ]
     },
     "metadata": {
      "needs_background": "light"
     },
     "output_type": "display_data"
    }
   ],
   "source": [
    "scores[scores.mutation == scores.mutation.unique()[0]].change.plot()"
   ]
  },
  {
   "cell_type": "code",
   "execution_count": 7,
   "metadata": {},
   "outputs": [],
   "source": [
    "input_file = '6vsb_1_1_1.pdb'"
   ]
  },
  {
   "cell_type": "code",
   "execution_count": 8,
   "metadata": {},
   "outputs": [],
   "source": [
    "def edit_bfactor(input_file,scores,attribute,is_mutations=False,make_positive=False):\n",
    "    all_mutation_scores = []\n",
    "    if is_mutations:\n",
    "        for mutation in scores.mutation.unique():\n",
    "            mutation_scores = scores[scores.mutation == mutation]\n",
    "            all_mutation_scores.append(mutation_scores)\n",
    "    else:\n",
    "        all_mutation_scores.append(scores)\n",
    "    for mutation_scores in all_mutation_scores:\n",
    "        if is_mutations:\n",
    "            mutation = mutation_scores.mutation.values[0]\n",
    "        else:\n",
    "            mutation = 'reference'\n",
    "\n",
    "        if 'pos' in mutation_scores.columns:\n",
    "            position_col = 'pos'\n",
    "        else:\n",
    "            position_col = 'position'\n",
    "\n",
    "        lines = []\n",
    "        with open(input_file, 'r') as file:\n",
    "            for l in file:\n",
    "                if 'ATOM' in l:\n",
    "                    residue_number = int(l[22:26].split()[0])\n",
    "                    change = float(mutation_scores[mutation_scores[position_col] == residue_number][attribute].values[0])\n",
    "                    if make_positive:\n",
    "                        change = abs(change)\n",
    "                    l = l[:60] + str(round(change,2))[:6] +l[66:]\n",
    "                lines.append(l)\n",
    "\n",
    "            output_file = input_file.split('.')[0]+'_'+mutation+'_'+attribute+'_'+input_file.split('.')[1]+'.pdb'\n",
    "            with open(output_file, 'w') as file:    \n",
    "                for l in lines:\n",
    "                    file.write(l)\n",
    "                    file.write('\\n')"
   ]
  },
  {
   "cell_type": "code",
   "execution_count": 9,
   "metadata": {},
   "outputs": [
    {
     "data": {
      "text/plain": [
       "array(['S13I', 'W152C', 'S13I,W152C'], dtype=object)"
      ]
     },
     "execution_count": 9,
     "metadata": {},
     "output_type": "execute_result"
    }
   ],
   "source": [
    "scores.mutation.unique()"
   ]
  },
  {
   "cell_type": "code",
   "execution_count": 10,
   "metadata": {},
   "outputs": [],
   "source": [
    "from Bio.PDB import *"
   ]
  },
  {
   "cell_type": "code",
   "execution_count": 11,
   "metadata": {},
   "outputs": [],
   "source": [
    "edit_bfactor(input_file,scores,'change',is_mutations=True,make_positive=False)"
   ]
  },
  {
   "cell_type": "markdown",
   "metadata": {},
   "source": [
    "# Make Annotations"
   ]
  },
  {
   "cell_type": "code",
   "execution_count": 12,
   "metadata": {},
   "outputs": [
    {
     "data": {
      "text/html": [
       "<div>\n",
       "<style scoped>\n",
       "    .dataframe tbody tr th:only-of-type {\n",
       "        vertical-align: middle;\n",
       "    }\n",
       "\n",
       "    .dataframe tbody tr th {\n",
       "        vertical-align: top;\n",
       "    }\n",
       "\n",
       "    .dataframe thead th {\n",
       "        text-align: right;\n",
       "    }\n",
       "</style>\n",
       "<table border=\"1\" class=\"dataframe\">\n",
       "  <thead>\n",
       "    <tr style=\"text-align: right;\">\n",
       "      <th></th>\n",
       "      <th>pos</th>\n",
       "      <th>reference</th>\n",
       "      <th>change</th>\n",
       "      <th>mutation</th>\n",
       "    </tr>\n",
       "  </thead>\n",
       "  <tbody>\n",
       "  </tbody>\n",
       "</table>\n",
       "</div>"
      ],
      "text/plain": [
       "Empty DataFrame\n",
       "Columns: [pos, reference, change, mutation]\n",
       "Index: []"
      ]
     },
     "execution_count": 12,
     "metadata": {},
     "output_type": "execute_result"
    }
   ],
   "source": [
    "scores[(scores.change !=0) &  (scores.mutation == 'R203K')]"
   ]
  },
  {
   "cell_type": "code",
   "execution_count": 61,
   "metadata": {},
   "outputs": [],
   "source": [
    "import pyperclip"
   ]
  },
  {
   "cell_type": "code",
   "execution_count": 62,
   "metadata": {},
   "outputs": [],
   "source": [
    "mutation = 'G204R'"
   ]
  },
  {
   "cell_type": "code",
   "execution_count": 13,
   "metadata": {},
   "outputs": [],
   "source": [
    "import ast\n",
    "import numpy as np"
   ]
  },
  {
   "cell_type": "code",
   "execution_count": 14,
   "metadata": {},
   "outputs": [
    {
     "name": "stdout",
     "output_type": "stream",
     "text": [
      "S13I\n",
      "S13I,W152C\n",
      "W152C\n"
     ]
    }
   ],
   "source": [
    "command = 'hide atoms;hide /B cartoon;hide /C cartoon;'\n",
    "for i,mutation in enumerate(np.sort(scores.mutation.unique())):\n",
    "    print(mutation)\n",
    "    mutation_list = mutation.split(',')\n",
    "    hashtag = '#'+str(i+1)\n",
    "    sites = scores[(abs(scores['change']) >= 0.01) & (scores.mutation == mutation) ].pos.values.astype(str)\n",
    "    command +='select '+hashtag+'/A:'+','.join(sites)+';show sel surfaces;'\n",
    "command +='select subtract sel;set bgColor white;lighting flat;lighting shadows true intensity 0.5;color by bfactor palette -0.4,red:-0.05,salmon:0,white:0.05,cornflowerblue:0.4,blue;tile;'\n",
    "\n",
    "for i,mutation in enumerate(np.sort(scores.mutation.unique())):\n",
    "    mutation_list = mutation.split(',')\n",
    "    hashtag = '#'+str(i+1)\n",
    "    sites = [s[1:-1] for s in mutation_list]\n",
    "    command +='select '+hashtag+'/A:'+','.join(sites)+';show sel surfaces;color sel yellow;'\n",
    "# pyperclip.copy(command)"
   ]
  },
  {
   "cell_type": "code",
   "execution_count": 15,
   "metadata": {},
   "outputs": [
    {
     "data": {
      "text/plain": [
       "'hide atoms;hide /B cartoon;select #1/A:4,5,6,9,10,11,12,14,15,16,17,18,19,20,22,23,26,27,29,34,38,41,44,49,54,66,69,74,76,77,89,97,105,113,131,136,138,139,142,150,161,166,191,291,330,384,499,500,681,695,723,917,1007,1030,1041,1055,1061,1089,1140,1220,1223,1227,1228,1239;show sel surfaces;select #2/A:4,5,6,9,10,11,12,14,15,16,17,18,19,20,22,23,24,26,27,29,34,35,38,40,41,44,49,54,59,62,66,69,85,89,93,96,99,104,109,111,112,123,125,127,129,130,131,133,136,137,140,142,144,146,147,149,151,153,154,157,158,159,162,164,166,180,182,184,187,202,206,207,217,219,225,238,241,258,291,330,339,384,432,478,499,521,537,544,568,573,695,809,836,1007,1030,1041,1058,1061,1075,1080,1089,1143,1145,1147,1171,1192,1201,1202,1208,1216,1223,1224,1227,1228,1233,1239,1251;show sel surfaces;select #3/A:9,14,15,29,99,104,105,111,125,127,128,129,130,131,133,136,140,142,144,146,147,149,150,151,153,154,157,158,159,162,164,166,169,177,178,180,184,191,202,217,219,330,499,521,544,1140,1143,1145,1154,1179,1216,1223;show sel surfaces;select subtract sel;set bgColor white;lighting flat;lighting shadows true intensity 0.5;color by bfactor palette -0.4,red:-0.05,salmon:0,white:0.05,cornflowerblue:0.4,blue;tile;select #1/A:13;show sel surfaces;color sel yellow;select #2/A:13,152;show sel surfaces;color sel yellow;select #3/A:152;show sel surfaces;color sel yellow;'"
      ]
     },
     "execution_count": 15,
     "metadata": {},
     "output_type": "execute_result"
    }
   ],
   "source": [
    "command"
   ]
  }
 ],
 "metadata": {
  "kernelspec": {
   "display_name": "Python 3 (ipykernel)",
   "language": "python",
   "name": "python3"
  },
  "language_info": {
   "codemirror_mode": {
    "name": "ipython",
    "version": 3
   },
   "file_extension": ".py",
   "mimetype": "text/x-python",
   "name": "python",
   "nbconvert_exporter": "python",
   "pygments_lexer": "ipython3",
   "version": "3.8.19"
  }
 },
 "nbformat": 4,
 "nbformat_minor": 4
}
